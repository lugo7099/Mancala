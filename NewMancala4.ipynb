{
 "cells": [
  {
   "cell_type": "markdown",
   "id": "e6bd767a-acc7-4cdd-ae23-b1ed08471f84",
   "metadata": {},
   "source": [
    "#### Import the aima-python repo and any necessary libraries"
   ]
  },
  {
   "cell_type": "code",
   "execution_count": 1,
   "id": "78497015-de8b-4aed-8626-9cb87c693973",
   "metadata": {},
   "outputs": [],
   "source": [
    "import sys\n",
    "import os\n",
    "\n",
    "# Add the path to the aima-python repo to sys.path\n",
    "sys.path.append(os.path.abspath('./aima_python'))\n",
    "\n",
    "from aima_python.games4e import Game\n",
    "from aima_python.utils4e import vector_add, MCT_Node, ucb\n",
    "from collections import defaultdict\n",
    "\n",
    "import random\n",
    "random.seed(109)"
   ]
  },
  {
   "cell_type": "markdown",
   "id": "132326db-4f1d-472a-9342-1d08e438a6d9",
   "metadata": {},
   "source": [
    "#### Implement our verison of Mancala by subclassing the Game class from aima"
   ]
  },
  {
   "cell_type": "code",
   "execution_count": 2,
   "id": "1e955099-c280-4d3b-93d3-9071c2fbb570",
   "metadata": {},
   "outputs": [],
   "source": [
    "class Mancala(Game):\n",
    "    \"\"\"Mancala game implementation.\"\"\"\n",
    "\n",
    "    def __init__(self):\n",
    "        self.squares = {i for i in range(14) if i != 6 and i != 13}  # Indices of pits (excluding mancalas)\n",
    "        self.initial = Board(pits=[4] * 6 + [0] + [4] * 6 + [0], to_move='P1')\n",
    "\n",
    "    def actions(self, board):\n",
    "        \"\"\"Return a list of legal moves (non-empty pits on the current player's side).\"\"\"\n",
    "        start, end = (0, 6) if board.to_move == 'P1' else (7, 13)\n",
    "        return [i for i in range(start, end) if board.pits[i] > 0]\n",
    "\n",
    "    def result(self, board, action):\n",
    "        \"\"\"Apply the move (distributing stones) and return the new board state.\"\"\"\n",
    "        pits = board.pits[:]\n",
    "        player = board.to_move\n",
    "        stones = pits[action]\n",
    "        pits[action] = 0\n",
    "\n",
    "        idx = action\n",
    "        while stones > 0:\n",
    "            idx = (idx + 1) % 14\n",
    "            if (player == 'P1' and idx == 13) or (player == 'P2' and idx == 6):\n",
    "                continue  # Skip opponent's mancala\n",
    "            pits[idx] += 1\n",
    "            stones -= 1\n",
    "\n",
    "        # Capture condition\n",
    "        if (player == 'P1' and 0 <= idx < 6 or player == 'P2' and 7 <= idx < 13) \\\n",
    "                and pits[idx] == 1 and pits[12 - idx] > 0:\n",
    "            pits[6 if player == 'P1' else 13] += pits[idx] + pits[12 - idx]\n",
    "            pits[idx] = pits[12 - idx] = 0\n",
    "\n",
    "        # Determine next player\n",
    "        next_to_move = player if (player == 'P1' and idx == 6 or player == 'P2' and idx == 13) else ('P2' if player == 'P1' else 'P1')\n",
    "\n",
    "        return board.new({'pits': pits, 'to_move': next_to_move})\n",
    "\n",
    "    def utility(self, board, player):\n",
    "        \"\"\"Return the game utility for the given player.\"\"\"\n",
    "        if self.is_terminal(board): # Calculate the utility function only at terminal nodes\n",
    "            score_p1 = sum(board.pits[:7])  # P1's Mancala score\n",
    "            score_p2 = sum(board.pits[7:])  # P2's Mancala score\n",
    "            if player == 'P1':\n",
    "                return score_p1 - score_p2  # Max - Min for P1\n",
    "            else:\n",
    "                return score_p2 - score_p1  # Max - Min for P2\n",
    "            return 0\n",
    "\n",
    "    def is_terminal(self, board):\n",
    "        \"\"\"Check if the game has ended.\"\"\"\n",
    "        return all(p == 0 for p in board.pits[:6]) or all(p == 0 for p in board.pits[7:13])\n",
    "\n",
    "    def display(self, board, current_player=None, move_from=None):\n",
    "        \"\"\"Display the board state.\"\"\"\n",
    "        \n",
    "        print(\"  \" + \" \".join(map(str, board.pits[12:6:-1])))\n",
    "        print(f\"{board.pits[13]}                  {board.pits[6]}\")\n",
    "        print(\"  \" + \" \".join(map(str, board.pits[:6])))\n",
    "        print(\"\\n\")\n",
    "\n",
    "        if current_player is not None and move_from is not None:\n",
    "            print(f\"Player {current_player} moved from pit {move_from}\")"
   ]
  },
  {
   "cell_type": "markdown",
   "id": "24c96728-43ea-402a-9083-041e805300a4",
   "metadata": {},
   "source": [
    "#### Implement our version of the mancala board"
   ]
  },
  {
   "cell_type": "code",
   "execution_count": 3,
   "id": "18fc3b8a-d933-441e-b057-890b1827a78e",
   "metadata": {},
   "outputs": [],
   "source": [
    "class Board(defaultdict):\n",
    "    \"\"\"A Mancala board with pits and a player to move.\"\"\"\n",
    "\n",
    "    def __init__(self, pits=None, to_move=None, **kwds):\n",
    "        super().__init__(int)\n",
    "        self.pits = pits or [0] * 14\n",
    "        self.to_move = to_move\n",
    "\n",
    "    def new(self, changes: dict, **kwds) -> 'Board':\n",
    "        \"\"\"Create a new board state with the specified changes.\"\"\"\n",
    "        board = Board(pits=self.pits[:], to_move=self.to_move, **kwds)\n",
    "        board.__dict__.update(changes)\n",
    "        return board\n",
    "\n",
    "    def __hash__(self):\n",
    "        return hash(tuple(self.pits)) + hash(self.to_move)\n",
    "\n",
    "    def __repr__(self):\n",
    "        return f\"Mancala({self.pits}, {self.to_move})\""
   ]
  },
  {
   "cell_type": "markdown",
   "id": "3e516e58-d70a-48ba-9194-32bcd7aeb836",
   "metadata": {},
   "source": [
    "#### Create a random player and a play game function to be able to play games"
   ]
  },
  {
   "cell_type": "code",
   "execution_count": 4,
   "id": "5b00982d-89bd-439c-a92e-91ef6fc2003a",
   "metadata": {},
   "outputs": [],
   "source": [
    "# Example game simulation\n",
    "from random import choice\n",
    "\n",
    "def random_player(game, board):\n",
    "    legal_moves = game.actions(board)\n",
    "    return choice(legal_moves)\n",
    "\n",
    "def play_game(game, players, verbose=False):\n",
    "    \"\"\"Simulate a game between two players\"\"\"\n",
    "    state = game.initial\n",
    "    while not game.is_terminal(state):\n",
    "        current_player = players[state.to_move]  # Get the current player\n",
    "        action = current_player(game, state)  # Get the player's move\n",
    "        state = game.result(state, action)  # Apply the move and get the new state\n",
    "        \n",
    "        if verbose:\n",
    "            game.display(state)  # Display the board state if verbose is True\n",
    "    \n",
    "    return game.utility(state, 'P1')  # Return the utility of the game for player 'P1'"
   ]
  },
  {
   "cell_type": "markdown",
   "id": "66d685e9-fb10-4e52-a743-18b0c94d51e3",
   "metadata": {},
   "source": [
    "#### Use this function to set what type of player is playing"
   ]
  },
  {
   "cell_type": "code",
   "execution_count": 5,
   "id": "57383bef-29e5-49b7-895a-a3c741ac63b1",
   "metadata": {},
   "outputs": [],
   "source": [
    "def player(search_algorithm):\n",
    "    \"\"\"A game player who uses the specified search algorithm.\"\"\"\n",
    "    return lambda game, state: search_algorithm(game, state)"
   ]
  },
  {
   "cell_type": "markdown",
   "id": "4034c4ba-ff81-4b3d-b4a6-072809159794",
   "metadata": {},
   "source": [
    "#### Use the simulate game function in order to simulate numerous games\n",
    "#### We need to update this so we can choose the minimax or alphabeta players"
   ]
  },
  {
   "cell_type": "code",
   "execution_count": 6,
   "id": "bc83a459-cead-48b2-a65b-0c553e8a33a9",
   "metadata": {},
   "outputs": [],
   "source": [
    "def simulate_game(player1, player2, start_with_p1=True):\n",
    "    \"\"\"Simulate a single game of Mancala between specified players.\"\"\"\n",
    "    game = Mancala()\n",
    "    board = game.initial.new({'to_move': 'P1' if start_with_p1 else 'P2'})\n",
    "    moves = 0\n",
    "    while not game.is_terminal(board):\n",
    "        current_player = player1 if board.to_move == 'P1' else player2\n",
    "        action = current_player(game, board)\n",
    "        board = game.result(board, action)\n",
    "        moves += 1\n",
    "    winner = 'P1' if sum(board.pits[:7]) > sum(board.pits[7:]) else 'P2'\n",
    "    return winner, moves"
   ]
  },
  {
   "cell_type": "code",
   "execution_count": 7,
   "id": "fd6c7c40-ebdf-4706-81ce-b2dfb30e092a",
   "metadata": {},
   "outputs": [],
   "source": [
    "def simulate_multiple_games(player1, player2, num_games=100):\n",
    "    \"\"\"Simulate multiple games and track win percentages and average moves.\"\"\"\n",
    "    p1_wins, p2_wins, total_moves = 0, 0, 0\n",
    "    for i in range(num_games):\n",
    "        start_with_p1 = (i % 2 == 0)  # Alternate starting players\n",
    "        winner, moves = simulate_game(player1, player2, start_with_p1=start_with_p1)\n",
    "        if winner == 'P1':\n",
    "            p1_wins += 1\n",
    "        else:\n",
    "            p2_wins += 1\n",
    "        total_moves += moves\n",
    "    return (p1_wins / num_games) * 100, (p2_wins / num_games) * 100, total_moves / num_games"
   ]
  },
  {
   "cell_type": "code",
   "execution_count": 8,
   "id": "2e9023ea-62da-43f8-b443-34eeef494f18",
   "metadata": {},
   "outputs": [],
   "source": [
    "def minimax(game, state, max_depth=5):\n",
    "    def max_value(state, depth):\n",
    "        if game.is_terminal(state) or depth == 0:\n",
    "            return heuristic_evaluation(state)\n",
    "        v = -float('inf')\n",
    "        for action in game.actions(state):\n",
    "            v = max(v, min_value(game.result(state, action), depth - 1))\n",
    "        return v\n",
    "\n",
    "    def min_value(state, depth):\n",
    "        if game.is_terminal(state) or depth == 0:\n",
    "            return heuristic_evaluation(state)\n",
    "        v = float('inf')\n",
    "        for action in game.actions(state):\n",
    "            v = min(v, max_value(game.result(state, action), depth - 1))\n",
    "        return v\n",
    "\n",
    "    # The minimax search returns the best action for the player whose turn it is.\n",
    "    best_action = None\n",
    "    best_value = -float('inf') if state.to_move == 'P1' else float('inf')\n",
    "    \n",
    "    for action in game.actions(state):\n",
    "        if state.to_move == 'P1':\n",
    "            value = min_value(game.result(state, action), max_depth - 1)\n",
    "            if value > best_value:\n",
    "                best_value, best_action = value, action\n",
    "        else:\n",
    "            value = max_value(game.result(state, action), max_depth - 1)\n",
    "            if value < best_value:\n",
    "                best_value, best_action = value, action\n",
    "\n",
    "    return best_action\n",
    "\n",
    "def heuristic_evaluation(state):\n",
    "    \"\"\"Evaluate the board state with a sophisticated heuristic.\"\"\"\n",
    "    p1_mancala = state.pits[6]\n",
    "    p2_mancala = state.pits[13]\n",
    "    stones_on_board_p1 = sum(state.pits[:6])\n",
    "    stones_on_board_p2 = sum(state.pits[7:13])\n",
    "\n",
    "    # Mancala advantage\n",
    "    mancala_score = p1_mancala - p2_mancala\n",
    "\n",
    "    # Board control: prioritize having more stones on your side\n",
    "    board_control = stones_on_board_p1 - stones_on_board_p2\n",
    "\n",
    "    # Extra-turn potential (favoring empty pits with stones opposite)\n",
    "    extra_turns = sum(1 for i in range(6) if state.pits[i] == 0 and state.pits[12 - i] > 0)\n",
    "\n",
    "    return mancala_score + 0.5 * board_control + 0.3 * extra_turns"
   ]
  },
  {
   "cell_type": "code",
   "execution_count": 9,
   "id": "7c1b082b-a791-493e-9a30-405a6331c63b",
   "metadata": {},
   "outputs": [],
   "source": [
    "def alphabeta(game, state, alpha=-float('inf'), beta=float('inf'), max_depth=5):\n",
    "    \"\"\"Alpha-beta pruning algorithm with a depth limit.\"\"\"\n",
    "    def max_value(state, alpha, beta, depth):\n",
    "        if game.is_terminal(state) or depth == 0:\n",
    "            return heuristic_evaluation(state), None\n",
    "        v, best_action = -float('inf'), None\n",
    "        for action in game.actions(state):\n",
    "            v2, _ = min_value(game.result(state, action), alpha, beta, depth - 1)\n",
    "            if v2 > v:\n",
    "                v, best_action = v2, action\n",
    "            if v >= beta:\n",
    "                return v, best_action\n",
    "            alpha = max(alpha, v)\n",
    "        return v, best_action\n",
    "\n",
    "    def min_value(state, alpha, beta, depth):\n",
    "        if game.is_terminal(state) or depth == 0:\n",
    "            return heuristic_evaluation(state), None\n",
    "        v, best_action = float('inf'), None\n",
    "        for action in game.actions(state):\n",
    "            v2, _ = max_value(game.result(state, action), alpha, beta, depth - 1)\n",
    "            if v2 < v:\n",
    "                v, best_action = v2, action\n",
    "            if v <= alpha:\n",
    "                return v, best_action\n",
    "            beta = min(beta, v)\n",
    "        return v, best_action\n",
    "\n",
    "    return max_value(state, alpha, beta, max_depth)[1]\n"
   ]
  },
  {
   "cell_type": "code",
   "execution_count": 10,
   "id": "6d6427c5-f0c5-4f6a-9b6b-919725f67517",
   "metadata": {},
   "outputs": [],
   "source": [
    "minimax_player = player(lambda game, state: minimax(game, state))\n",
    "alphabeta_player = player(lambda game, state: alphabeta(game, state))"
   ]
  },
  {
   "cell_type": "code",
   "execution_count": 13,
   "id": "eb99927e-efbd-4111-b83a-90e0fc12d9a7",
   "metadata": {},
   "outputs": [
    {
     "name": "stdout",
     "output_type": "stream",
     "text": [
      "Minimax Player vs Random Player\n",
      "Player 1 win percentage: 97.0%\n",
      "Player 2 win percentage: 3.0%\n",
      "Average number of moves: 34.835\n"
     ]
    }
   ],
   "source": [
    "p1_win_percentage, p2_win_percentage, avg_moves = simulate_multiple_games(minimax_player, random_player, num_games=100)\n",
    "print(\"Minimax Player vs Random Player\")\n",
    "print(f\"Player 1 win percentage: {p1_win_percentage}%\")\n",
    "print(f\"Player 2 win percentage: {p2_win_percentage}%\")\n",
    "print(f\"Average number of moves: {avg_moves}\")"
   ]
  },
  {
   "cell_type": "code",
   "execution_count": 14,
   "id": "35aeede4-44f7-48b3-8bdf-79107708dc44",
   "metadata": {},
   "outputs": [
    {
     "name": "stdout",
     "output_type": "stream",
     "text": [
      "AlphaBeta Player vs Random Player\n",
      "Player 1 win percentage: 98.0%\n",
      "Player 2 win percentage: 2.0%\n",
      "Average number of moves: 34.455\n"
     ]
    }
   ],
   "source": [
    "p1_win_percentage, p2_win_percentage, avg_moves = simulate_multiple_games(alphabeta_player, random_player, num_games=200)\n",
    "print(\"AlphaBeta Player vs Random Player\")\n",
    "print(f\"Player 1 win percentage: {p1_win_percentage}%\")\n",
    "print(f\"Player 2 win percentage: {p2_win_percentage}%\")\n",
    "print(f\"Average number of moves: {avg_moves}\")"
   ]
  },
  {
   "cell_type": "code",
   "execution_count": null,
   "id": "501a8847-dc6c-4110-93ce-7a255ba46cd9",
   "metadata": {},
   "outputs": [],
   "source": []
  },
  {
   "cell_type": "code",
   "execution_count": null,
   "id": "de67f831-74a3-43ea-8e4d-40e4c9516c50",
   "metadata": {},
   "outputs": [],
   "source": []
  }
 ],
 "metadata": {
  "kernelspec": {
   "display_name": "Python 3 (ipykernel)",
   "language": "python",
   "name": "python3"
  },
  "language_info": {
   "codemirror_mode": {
    "name": "ipython",
    "version": 3
   },
   "file_extension": ".py",
   "mimetype": "text/x-python",
   "name": "python",
   "nbconvert_exporter": "python",
   "pygments_lexer": "ipython3",
   "version": "3.13.0"
  }
 },
 "nbformat": 4,
 "nbformat_minor": 5
}
