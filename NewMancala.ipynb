{
 "cells": [
  {
   "cell_type": "code",
   "execution_count": 1,
   "id": "78497015-de8b-4aed-8626-9cb87c693973",
   "metadata": {},
   "outputs": [],
   "source": [
    "import sys\n",
    "import os\n",
    "\n",
    "# Add the path to the aima-python repo to sys.path\n",
    "sys.path.append(os.path.abspath('/Users/lukegosnell/Downloads/CUYear5/AI/FinalProject/aima_python'))\n",
    "\n",
    "from aima_python.games4e import Game\n",
    "from aima_python.utils4e import vector_add, MCT_Node, ucb\n",
    "\n",
    "\n",
    "import random\n",
    "random.seed(109)"
   ]
  },
  {
   "cell_type": "code",
   "execution_count": 2,
   "id": "1e955099-c280-4d3b-93d3-9071c2fbb570",
   "metadata": {},
   "outputs": [],
   "source": [
    "class Mancala(Game):\n",
    "    \"\"\"Mancala game implementation.\"\"\"\n",
    "\n",
    "    def __init__(self):\n",
    "        self.squares = {i for i in range(14) if i != 6 and i != 13}  # Indices of pits (excluding mancalas)\n",
    "        self.initial = Board(pits=[4] * 6 + [0] + [4] * 6 + [0], to_move='P1')\n",
    "\n",
    "    def actions(self, board):\n",
    "        \"\"\"Return a list of legal moves (non-empty pits on the current player's side).\"\"\"\n",
    "        start, end = (0, 6) if board.to_move == 'P1' else (7, 13)\n",
    "        return [i for i in range(start, end) if board.pits[i] > 0]\n",
    "\n",
    "    def result(self, board, action):\n",
    "        \"\"\"Apply the move (distributing stones) and return the new board state.\"\"\"\n",
    "        pits = board.pits[:]\n",
    "        player = board.to_move\n",
    "        stones = pits[action]\n",
    "        pits[action] = 0\n",
    "\n",
    "        idx = action\n",
    "        while stones > 0:\n",
    "            idx = (idx + 1) % 14\n",
    "            if (player == 'P1' and idx == 13) or (player == 'P2' and idx == 6):\n",
    "                continue  # Skip opponent's mancala\n",
    "            pits[idx] += 1\n",
    "            stones -= 1\n",
    "\n",
    "        # Capture condition\n",
    "        if (player == 'P1' and 0 <= idx < 6 or player == 'P2' and 7 <= idx < 13) \\\n",
    "                and pits[idx] == 1 and pits[12 - idx] > 0:\n",
    "            pits[6 if player == 'P1' else 13] += pits[idx] + pits[12 - idx]\n",
    "            pits[idx] = pits[12 - idx] = 0\n",
    "\n",
    "        # Determine next player\n",
    "        next_to_move = player if (player == 'P1' and idx == 6 or player == 'P2' and idx == 13) else ('P2' if player == 'P1' else 'P1')\n",
    "\n",
    "        return board.new({'pits': pits, 'to_move': next_to_move})\n",
    "\n",
    "    def utility(self, board, player):\n",
    "        \"\"\"Return the game utility for the given player.\"\"\"\n",
    "        if self.is_terminal(board):\n",
    "            score_p1 = sum(board.pits[:7])\n",
    "            score_p2 = sum(board.pits[7:])\n",
    "            return (1 if score_p1 > score_p2 else -1 if score_p1 < score_p2 else 0) if player == 'P1' else (-1 if score_p1 > score_p2 else 1 if score_p1 < score_p2 else 0)\n",
    "        return 0\n",
    "\n",
    "    def is_terminal(self, board):\n",
    "        \"\"\"Check if the game has ended.\"\"\"\n",
    "        return all(p == 0 for p in board.pits[:6]) or all(p == 0 for p in board.pits[7:13])\n",
    "\n",
    "    def display(self, board):\n",
    "        \"\"\"Display the board state.\"\"\"\n",
    "        print(\"  \" + \" \".join(map(str, board.pits[12:6:-1])))\n",
    "        print(f\"{board.pits[13]}                  {board.pits[6]}\")\n",
    "        print(\"  \" + \" \".join(map(str, board.pits[:6])))"
   ]
  },
  {
   "cell_type": "code",
   "execution_count": 6,
   "id": "18fc3b8a-d933-441e-b057-890b1827a78e",
   "metadata": {},
   "outputs": [
    {
     "ename": "NameError",
     "evalue": "name 'defaultdict' is not defined",
     "output_type": "error",
     "traceback": [
      "\u001b[0;31m---------------------------------------------------------------------------\u001b[0m",
      "\u001b[0;31mNameError\u001b[0m                                 Traceback (most recent call last)",
      "Cell \u001b[0;32mIn[6], line 1\u001b[0m\n\u001b[0;32m----> 1\u001b[0m \u001b[38;5;28;01mclass\u001b[39;00m \u001b[38;5;21;01mBoard\u001b[39;00m(\u001b[43mdefaultdict\u001b[49m):\n\u001b[1;32m      2\u001b[0m \u001b[38;5;250m    \u001b[39m\u001b[38;5;124;03m\"\"\"A Mancala board with pits and a player to move.\"\"\"\u001b[39;00m\n\u001b[1;32m      4\u001b[0m     \u001b[38;5;28;01mdef\u001b[39;00m \u001b[38;5;21m__init__\u001b[39m(\u001b[38;5;28mself\u001b[39m, pits\u001b[38;5;241m=\u001b[39m\u001b[38;5;28;01mNone\u001b[39;00m, to_move\u001b[38;5;241m=\u001b[39m\u001b[38;5;28;01mNone\u001b[39;00m, \u001b[38;5;241m*\u001b[39m\u001b[38;5;241m*\u001b[39mkwds):\n",
      "\u001b[0;31mNameError\u001b[0m: name 'defaultdict' is not defined"
     ]
    }
   ],
   "source": [
    "class Board(defaultdict):\n",
    "    \"\"\"A Mancala board with pits and a player to move.\"\"\"\n",
    "\n",
    "    def __init__(self, pits=None, to_move=None, **kwds):\n",
    "        super().__init__(int)\n",
    "        self.pits = pits or [0] * 14\n",
    "        self.to_move = to_move\n",
    "\n",
    "    def new(self, changes: dict, **kwds) -> 'Board':\n",
    "        \"\"\"Create a new board state with the specified changes.\"\"\"\n",
    "        board = Board(pits=self.pits[:], to_move=self.to_move, **kwds)\n",
    "        board.__dict__.update(changes)\n",
    "        return board\n",
    "\n",
    "    def __hash__(self):\n",
    "        return hash(tuple(self.pits)) + hash(self.to_move)\n",
    "\n",
    "    def __repr__(self):\n",
    "        return f\"Mancala({self.pits}, {self.to_move})\""
   ]
  },
  {
   "cell_type": "code",
   "execution_count": 5,
   "id": "5b00982d-89bd-439c-a92e-91ef6fc2003a",
   "metadata": {},
   "outputs": [
    {
     "ename": "TypeError",
     "evalue": "object.__init__() takes exactly one argument (the instance to initialize)",
     "output_type": "error",
     "traceback": [
      "\u001b[0;31m---------------------------------------------------------------------------\u001b[0m",
      "\u001b[0;31mTypeError\u001b[0m                                 Traceback (most recent call last)",
      "Cell \u001b[0;32mIn[5], line 7\u001b[0m\n\u001b[1;32m      4\u001b[0m \u001b[38;5;28;01mdef\u001b[39;00m \u001b[38;5;21mrandom_player\u001b[39m(game, state):\n\u001b[1;32m      5\u001b[0m     \u001b[38;5;28;01mreturn\u001b[39;00m choice(game\u001b[38;5;241m.\u001b[39mactions(state))\n\u001b[0;32m----> 7\u001b[0m mancala \u001b[38;5;241m=\u001b[39m \u001b[43mMancala\u001b[49m\u001b[43m(\u001b[49m\u001b[43m)\u001b[49m\n\u001b[1;32m      8\u001b[0m state \u001b[38;5;241m=\u001b[39m mancala\u001b[38;5;241m.\u001b[39minitial\n\u001b[1;32m      9\u001b[0m \u001b[38;5;28;01mwhile\u001b[39;00m \u001b[38;5;129;01mnot\u001b[39;00m mancala\u001b[38;5;241m.\u001b[39mis_terminal(state):\n",
      "Cell \u001b[0;32mIn[2], line 6\u001b[0m, in \u001b[0;36mMancala.__init__\u001b[0;34m(self)\u001b[0m\n\u001b[1;32m      4\u001b[0m \u001b[38;5;28;01mdef\u001b[39;00m \u001b[38;5;21m__init__\u001b[39m(\u001b[38;5;28mself\u001b[39m):\n\u001b[1;32m      5\u001b[0m     \u001b[38;5;28mself\u001b[39m\u001b[38;5;241m.\u001b[39msquares \u001b[38;5;241m=\u001b[39m {i \u001b[38;5;28;01mfor\u001b[39;00m i \u001b[38;5;129;01min\u001b[39;00m \u001b[38;5;28mrange\u001b[39m(\u001b[38;5;241m14\u001b[39m) \u001b[38;5;28;01mif\u001b[39;00m i \u001b[38;5;241m!=\u001b[39m \u001b[38;5;241m6\u001b[39m \u001b[38;5;129;01mand\u001b[39;00m i \u001b[38;5;241m!=\u001b[39m \u001b[38;5;241m13\u001b[39m}  \u001b[38;5;66;03m# Indices of pits (excluding mancalas)\u001b[39;00m\n\u001b[0;32m----> 6\u001b[0m     \u001b[38;5;28mself\u001b[39m\u001b[38;5;241m.\u001b[39minitial \u001b[38;5;241m=\u001b[39m \u001b[43mBoard\u001b[49m\u001b[43m(\u001b[49m\u001b[43mpits\u001b[49m\u001b[38;5;241;43m=\u001b[39;49m\u001b[43m[\u001b[49m\u001b[38;5;241;43m4\u001b[39;49m\u001b[43m]\u001b[49m\u001b[43m \u001b[49m\u001b[38;5;241;43m*\u001b[39;49m\u001b[43m \u001b[49m\u001b[38;5;241;43m6\u001b[39;49m\u001b[43m \u001b[49m\u001b[38;5;241;43m+\u001b[39;49m\u001b[43m \u001b[49m\u001b[43m[\u001b[49m\u001b[38;5;241;43m0\u001b[39;49m\u001b[43m]\u001b[49m\u001b[43m \u001b[49m\u001b[38;5;241;43m+\u001b[39;49m\u001b[43m \u001b[49m\u001b[43m[\u001b[49m\u001b[38;5;241;43m4\u001b[39;49m\u001b[43m]\u001b[49m\u001b[43m \u001b[49m\u001b[38;5;241;43m*\u001b[39;49m\u001b[43m \u001b[49m\u001b[38;5;241;43m6\u001b[39;49m\u001b[43m \u001b[49m\u001b[38;5;241;43m+\u001b[39;49m\u001b[43m \u001b[49m\u001b[43m[\u001b[49m\u001b[38;5;241;43m0\u001b[39;49m\u001b[43m]\u001b[49m\u001b[43m,\u001b[49m\u001b[43m \u001b[49m\u001b[43mto_move\u001b[49m\u001b[38;5;241;43m=\u001b[39;49m\u001b[38;5;124;43m'\u001b[39;49m\u001b[38;5;124;43mP1\u001b[39;49m\u001b[38;5;124;43m'\u001b[39;49m\u001b[43m)\u001b[49m\n",
      "Cell \u001b[0;32mIn[4], line 5\u001b[0m, in \u001b[0;36mBoard.__init__\u001b[0;34m(self, pits, to_move, **kwds)\u001b[0m\n\u001b[1;32m      4\u001b[0m \u001b[38;5;28;01mdef\u001b[39;00m \u001b[38;5;21m__init__\u001b[39m(\u001b[38;5;28mself\u001b[39m, pits\u001b[38;5;241m=\u001b[39m\u001b[38;5;28;01mNone\u001b[39;00m, to_move\u001b[38;5;241m=\u001b[39m\u001b[38;5;28;01mNone\u001b[39;00m, \u001b[38;5;241m*\u001b[39m\u001b[38;5;241m*\u001b[39mkwds):\n\u001b[0;32m----> 5\u001b[0m     \u001b[38;5;28;43msuper\u001b[39;49m\u001b[43m(\u001b[49m\u001b[43m)\u001b[49m\u001b[38;5;241;43m.\u001b[39;49m\u001b[38;5;21;43m__init__\u001b[39;49m\u001b[43m(\u001b[49m\u001b[38;5;28;43mint\u001b[39;49m\u001b[43m)\u001b[49m\n\u001b[1;32m      6\u001b[0m     \u001b[38;5;28mself\u001b[39m\u001b[38;5;241m.\u001b[39mpits \u001b[38;5;241m=\u001b[39m pits \u001b[38;5;129;01mor\u001b[39;00m [\u001b[38;5;241m0\u001b[39m] \u001b[38;5;241m*\u001b[39m \u001b[38;5;241m14\u001b[39m\n\u001b[1;32m      7\u001b[0m     \u001b[38;5;28mself\u001b[39m\u001b[38;5;241m.\u001b[39mto_move \u001b[38;5;241m=\u001b[39m to_move\n",
      "\u001b[0;31mTypeError\u001b[0m: object.__init__() takes exactly one argument (the instance to initialize)"
     ]
    }
   ],
   "source": [
    "# Example game simulation\n",
    "from random import choice\n",
    "\n",
    "def random_player(game, state):\n",
    "    return choice(game.actions(state))\n",
    "\n",
    "mancala = Mancala()\n",
    "state = mancala.initial\n",
    "while not mancala.is_terminal(state):\n",
    "    action = random_player(mancala, state)\n",
    "    state = mancala.result(state, action)\n",
    "    mancala.display(state)\n",
    "\n",
    "print(\"Game over!\")"
   ]
  },
  {
   "cell_type": "code",
   "execution_count": null,
   "id": "0d09c223-5005-4de5-989d-319a87ee951a",
   "metadata": {},
   "outputs": [],
   "source": []
  }
 ],
 "metadata": {
  "kernelspec": {
   "display_name": "Python 3 (ipykernel)",
   "language": "python",
   "name": "python3"
  },
  "language_info": {
   "codemirror_mode": {
    "name": "ipython",
    "version": 3
   },
   "file_extension": ".py",
   "mimetype": "text/x-python",
   "name": "python",
   "nbconvert_exporter": "python",
   "pygments_lexer": "ipython3",
   "version": "3.12.0"
  }
 },
 "nbformat": 4,
 "nbformat_minor": 5
}
