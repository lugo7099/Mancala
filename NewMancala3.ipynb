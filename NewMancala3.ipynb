{
 "cells": [
  {
   "cell_type": "markdown",
   "id": "e6bd767a-acc7-4cdd-ae23-b1ed08471f84",
   "metadata": {},
   "source": [
    "#### Import the aima-python repo and any necessary libraries"
   ]
  },
  {
   "cell_type": "code",
   "execution_count": 1,
   "id": "78497015-de8b-4aed-8626-9cb87c693973",
   "metadata": {},
   "outputs": [],
   "source": [
    "import sys\n",
    "import os\n",
    "\n",
    "# Add the path to the aima-python repo to sys.path\n",
    "sys.path.append(os.path.abspath('/Users/lukegosnell/Downloads/CUYear5/AI/FinalProject/aima_python'))\n",
    "\n",
    "from aima_python.games4e import Game\n",
    "from aima_python.utils4e import vector_add, MCT_Node, ucb\n",
    "from collections import defaultdict\n",
    "\n",
    "import random\n",
    "random.seed(109)"
   ]
  },
  {
   "cell_type": "markdown",
   "id": "132326db-4f1d-472a-9342-1d08e438a6d9",
   "metadata": {},
   "source": [
    "#### Implement our verison of Mancala by subclassing the Game class from aima"
   ]
  },
  {
   "cell_type": "code",
   "execution_count": 2,
   "id": "1e955099-c280-4d3b-93d3-9071c2fbb570",
   "metadata": {},
   "outputs": [],
   "source": [
    "class Mancala(Game):\n",
    "    \"\"\"Mancala game implementation.\"\"\"\n",
    "\n",
    "    def __init__(self):\n",
    "        self.squares = {i for i in range(14) if i != 6 and i != 13}  # Indices of pits (excluding mancalas)\n",
    "        self.initial = Board(pits=[4] * 6 + [0] + [4] * 6 + [0], to_move='P1')\n",
    "\n",
    "    def actions(self, board):\n",
    "        \"\"\"Return a list of legal moves (non-empty pits on the current player's side).\"\"\"\n",
    "        start, end = (0, 6) if board.to_move == 'P1' else (7, 13)\n",
    "        return [i for i in range(start, end) if board.pits[i] > 0]\n",
    "\n",
    "    def result(self, board, action):\n",
    "        \"\"\"Apply the move (distributing stones) and return the new board state.\"\"\"\n",
    "        pits = board.pits[:]\n",
    "        player = board.to_move\n",
    "        stones = pits[action]\n",
    "        pits[action] = 0\n",
    "\n",
    "        idx = action\n",
    "        while stones > 0:\n",
    "            idx = (idx + 1) % 14\n",
    "            if (player == 'P1' and idx == 13) or (player == 'P2' and idx == 6):\n",
    "                continue  # Skip opponent's mancala\n",
    "            pits[idx] += 1\n",
    "            stones -= 1\n",
    "\n",
    "        # Capture condition\n",
    "        if (player == 'P1' and 0 <= idx < 6 or player == 'P2' and 7 <= idx < 13) \\\n",
    "                and pits[idx] == 1 and pits[12 - idx] > 0:\n",
    "            pits[6 if player == 'P1' else 13] += pits[idx] + pits[12 - idx]\n",
    "            pits[idx] = pits[12 - idx] = 0\n",
    "\n",
    "        # Determine next player\n",
    "        next_to_move = player if (player == 'P1' and idx == 6 or player == 'P2' and idx == 13) else ('P2' if player == 'P1' else 'P1')\n",
    "\n",
    "        return board.new({'pits': pits, 'to_move': next_to_move})\n",
    "\n",
    "    def utility(self, board, player):\n",
    "        \"\"\"Return the game utility for the given player.\"\"\"\n",
    "        if self.is_terminal(board): # Calculate the utility function only at terminal nodes\n",
    "            score_p1 = sum(board.pits[:7])  # P1's Mancala score\n",
    "            score_p2 = sum(board.pits[7:])  # P2's Mancala score\n",
    "            if player == 'P1':\n",
    "                return score_p1 - score_p2  # Max - Min for P1\n",
    "            else:\n",
    "                return score_p2 - score_p1  # Max - Min for P2\n",
    "            return 0\n",
    "\n",
    "    def is_terminal(self, board):\n",
    "        \"\"\"Check if the game has ended.\"\"\"\n",
    "        return all(p == 0 for p in board.pits[:6]) or all(p == 0 for p in board.pits[7:13])\n",
    "\n",
    "    def display(self, board, current_player=None, move_from=None):\n",
    "        \"\"\"Display the board state.\"\"\"\n",
    "        \n",
    "        print(\"  \" + \" \".join(map(str, board.pits[12:6:-1])))\n",
    "        print(f\"{board.pits[13]}                  {board.pits[6]}\")\n",
    "        print(\"  \" + \" \".join(map(str, board.pits[:6])))\n",
    "        print(\"\\n\")\n",
    "\n",
    "        if current_player is not None and move_from is not None:\n",
    "            print(f\"Player {current_player} moved from pit {move_from}\")"
   ]
  },
  {
   "cell_type": "markdown",
   "id": "24c96728-43ea-402a-9083-041e805300a4",
   "metadata": {},
   "source": [
    "#### Implement our version of the mancala board"
   ]
  },
  {
   "cell_type": "code",
   "execution_count": 3,
   "id": "18fc3b8a-d933-441e-b057-890b1827a78e",
   "metadata": {},
   "outputs": [],
   "source": [
    "class Board(defaultdict):\n",
    "    \"\"\"A Mancala board with pits and a player to move.\"\"\"\n",
    "\n",
    "    def __init__(self, pits=None, to_move=None, **kwds):\n",
    "        super().__init__(int)\n",
    "        self.pits = pits or [0] * 14\n",
    "        self.to_move = to_move\n",
    "\n",
    "    def new(self, changes: dict, **kwds) -> 'Board':\n",
    "        \"\"\"Create a new board state with the specified changes.\"\"\"\n",
    "        board = Board(pits=self.pits[:], to_move=self.to_move, **kwds)\n",
    "        board.__dict__.update(changes)\n",
    "        return board\n",
    "\n",
    "    def __hash__(self):\n",
    "        return hash(tuple(self.pits)) + hash(self.to_move)\n",
    "\n",
    "    def __repr__(self):\n",
    "        return f\"Mancala({self.pits}, {self.to_move})\""
   ]
  },
  {
   "cell_type": "markdown",
   "id": "3e516e58-d70a-48ba-9194-32bcd7aeb836",
   "metadata": {},
   "source": [
    "#### Create a random player and a play game function to be able to play games"
   ]
  },
  {
   "cell_type": "code",
   "execution_count": 4,
   "id": "5b00982d-89bd-439c-a92e-91ef6fc2003a",
   "metadata": {},
   "outputs": [],
   "source": [
    "# Example game simulation\n",
    "from random import choice\n",
    "\n",
    "def random_player(game, board):\n",
    "    legal_moves = game.actions(board)\n",
    "    return choice(legal_moves)\n",
    "\n",
    "def play_game(game, players, verbose=False):\n",
    "    \"\"\"Simulate a game between two players\"\"\"\n",
    "    state = game.initial\n",
    "    while not game.is_terminal(state):\n",
    "        current_player = players[state.to_move]  # Get the current player\n",
    "        action = current_player(game, state)  # Get the player's move\n",
    "        state = game.result(state, action)  # Apply the move and get the new state\n",
    "        \n",
    "        if verbose:\n",
    "            game.display(state)  # Display the board state if verbose is True\n",
    "    \n",
    "    return game.utility(state, 'P1')  # Return the utility of the game for player 'P1'"
   ]
  },
  {
   "cell_type": "markdown",
   "id": "66d685e9-fb10-4e52-a743-18b0c94d51e3",
   "metadata": {},
   "source": [
    "#### Use this function to set what type of player is playing"
   ]
  },
  {
   "cell_type": "code",
   "execution_count": 5,
   "id": "57383bef-29e5-49b7-895a-a3c741ac63b1",
   "metadata": {},
   "outputs": [],
   "source": [
    "def player(search_algorithm):\n",
    "    \"\"\"A game player who uses the specified search algorithm\"\"\"\n",
    "    return lambda game, state: search_algorithm(game, state)[1]"
   ]
  },
  {
   "cell_type": "markdown",
   "id": "4034c4ba-ff81-4b3d-b4a6-072809159794",
   "metadata": {},
   "source": [
    "#### Use the simulate game function in order to simulate numerous games\n",
    "#### We need to update this so we can choose the minimax or alphabeta players"
   ]
  },
  {
   "cell_type": "code",
   "execution_count": 8,
   "id": "bc83a459-cead-48b2-a65b-0c553e8a33a9",
   "metadata": {},
   "outputs": [],
   "source": [
    "def simulate_game():\n",
    "    \"\"\"Simulate a single game of Mancala between two random players.\"\"\"\n",
    "    game = Mancala()\n",
    "    board = game.initial\n",
    "    moves = 0\n",
    "    while not game.is_terminal(board):\n",
    "        current_player = board.to_move\n",
    "        action = random_player(game, board)  # Random player chooses a move\n",
    "        board = game.result(board, action)  # Apply the move and update the board\n",
    "        moves += 1\n",
    "    winner = 'P1' if sum(board.pits[:7]) > sum(board.pits[7:]) else 'P2'\n",
    "    return winner, moves"
   ]
  },
  {
   "cell_type": "code",
   "execution_count": 9,
   "id": "fd6c7c40-ebdf-4706-81ce-b2dfb30e092a",
   "metadata": {},
   "outputs": [],
   "source": [
    "def simulate_multiple_games(num_games=100):\n",
    "    \"\"\"Simulate multiple games and track win percentages and average moves.\"\"\"\n",
    "    p1_wins = 0\n",
    "    p2_wins = 0\n",
    "    total_moves = 0\n",
    "\n",
    "    for _ in range(num_games):\n",
    "        winner, moves = simulate_game()\n",
    "        if winner == 'P1':\n",
    "            p1_wins += 1\n",
    "        else:\n",
    "            p2_wins += 1\n",
    "        total_moves += moves\n",
    "\n",
    "    p1_win_percentage = (p1_wins / num_games) * 100\n",
    "    p2_win_percentage = (p2_wins / num_games) * 100\n",
    "    avg_moves = total_moves / num_games\n",
    "\n",
    "    return p1_win_percentage, p2_win_percentage, avg_moves"
   ]
  },
  {
   "cell_type": "code",
   "execution_count": null,
   "id": "d888e9aa-68e0-4c7e-a323-bf7645d271c3",
   "metadata": {},
   "outputs": [],
   "source": [
    "#### Results of the random player playing a random pla"
   ]
  },
  {
   "cell_type": "code",
   "execution_count": 13,
   "id": "6dcee3db-cf10-4af3-bfc4-38ca2cfb3f2c",
   "metadata": {},
   "outputs": [
    {
     "name": "stdout",
     "output_type": "stream",
     "text": [
      "Random Player vs. Random Player\n",
      "Player 1 win percentage: 47.0%\n",
      "Player 2 win percentage: 53.0%\n",
      "Average number of moves to win: 43.48\n"
     ]
    }
   ],
   "source": [
    "# Simulate 100 games\n",
    "p1_win_percentage, p2_win_percentage, avg_moves = simulate_multiple_games()\n",
    "\n",
    "# Print the results\n",
    "print(\"Random Player vs. Random Player\")\n",
    "print(f\"Player 1 win percentage: {p1_win_percentage}%\")\n",
    "print(f\"Player 2 win percentage: {p2_win_percentage}%\")\n",
    "print(f\"Average number of moves to win: {avg_moves}\")"
   ]
  },
  {
   "cell_type": "code",
   "execution_count": 7,
   "id": "2e9023ea-62da-43f8-b443-34eeef494f18",
   "metadata": {},
   "outputs": [],
   "source": [
    "def minimax(game, state):\n",
    "    def max_value(state):\n",
    "        if game.is_terminal(state):\n",
    "            return game.utility(state, 'P1')\n",
    "        v = -float('inf')\n",
    "        for action in game.actions(state):\n",
    "            v = max(v, min_value(game.result(state, action)))\n",
    "        return v\n",
    "\n",
    "    def min_value(state):\n",
    "        if game.is_terminal(state):\n",
    "            return game.utility(state, 'P2')\n",
    "        v = float('inf')\n",
    "        for action in game.actions(state):\n",
    "            v = min(v, max_value(game.result(state, action)))\n",
    "        return v\n",
    "\n",
    "    # The minimax search returns the best action for the player whose turn it is.\n",
    "    best_action = None\n",
    "    best_value = -float('inf') if state.to_move == 'P1' else float('inf')\n",
    "    \n",
    "    for action in game.actions(state):\n",
    "        if state.to_move == 'P1':\n",
    "            value = min_value(game.result(state, action))\n",
    "            if value > best_value:\n",
    "                best_value, best_action = value, action\n",
    "        else:\n",
    "            value = max_value(game.result(state, action))\n",
    "            if value < best_value:\n",
    "                best_value, best_action = value, action\n",
    "\n",
    "    return best_action\n"
   ]
  },
  {
   "cell_type": "code",
   "execution_count": 6,
   "id": "7c1b082b-a791-493e-9a30-405a6331c63b",
   "metadata": {},
   "outputs": [],
   "source": [
    "def alphabeta(game, state, alpha=-float('inf'), beta=float('inf')):\n",
    "    def max_value(state, alpha, beta):\n",
    "        if game.is_terminal(state):\n",
    "            return game.utility(state, 'P1'), None\n",
    "        best_action = None\n",
    "        v = -float('inf')\n",
    "        for action in game.actions(state):\n",
    "            v2, _ = min_value(game.result(state, action), alpha, beta)\n",
    "            if v2 > v:\n",
    "                v, best_action = v2, action\n",
    "            if v >= beta:\n",
    "                return v, best_action\n",
    "            alpha = max(alpha, v)\n",
    "        return v, best_action\n",
    "\n",
    "    def min_value(state, alpha, beta):\n",
    "        if game.is_terminal(state):\n",
    "            return game.utility(state, 'P2'), None\n",
    "        best_action = None\n",
    "        v = float('inf')\n",
    "        for action in game.actions(state):\n",
    "            v2, _ = max_value(game.result(state, action), alpha, beta)\n",
    "            if v2 < v:\n",
    "                v, best_action = v2, action\n",
    "            if v <= alpha:\n",
    "                return v, best_action\n",
    "            beta = min(beta, v)\n",
    "        return v, best_action\n",
    "\n",
    "    return max_value(state, alpha, beta)[1]\n"
   ]
  },
  {
   "cell_type": "code",
   "execution_count": null,
   "id": "6d6427c5-f0c5-4f6a-9b6b-919725f67517",
   "metadata": {},
   "outputs": [],
   "source": [
    "# Create a Mancala game and players\n",
    "players = {\n",
    "    'P1': random_player,  # Random player for 'P1'\n",
    "    'P2': minimax  # Player using alphabeta_search for 'P2'\n",
    "}\n",
    "\n",
    "# Play the game and print the result for 'P1'\n",
    "result = play_game(Mancala(), players, verbose=True)\n",
    "\n",
    "print(f\"Game over! Result for 'P1': {result}\")\n"
   ]
  }
 ],
 "metadata": {
  "kernelspec": {
   "display_name": "Python 3 (ipykernel)",
   "language": "python",
   "name": "python3"
  },
  "language_info": {
   "codemirror_mode": {
    "name": "ipython",
    "version": 3
   },
   "file_extension": ".py",
   "mimetype": "text/x-python",
   "name": "python",
   "nbconvert_exporter": "python",
   "pygments_lexer": "ipython3",
   "version": "3.12.0"
  }
 },
 "nbformat": 4,
 "nbformat_minor": 5
}
